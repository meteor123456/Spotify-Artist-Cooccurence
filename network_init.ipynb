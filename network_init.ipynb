{
 "cells": [
  {
   "cell_type": "markdown",
   "metadata": {},
   "source": [
    "Set up code referenced from: https://github.com/rodolfostark/spotify-network-analysis/blob/main/spotify_network_analysis.ipynb"
   ]
  },
  {
   "cell_type": "code",
   "execution_count": 23,
   "metadata": {},
   "outputs": [],
   "source": [
    "import json\n",
    "import numpy as np\n",
    "import pandas as pd\n",
    "import seaborn as sns\n",
    "import networkx as nx\n",
    "import matplotlib.pyplot as plt"
   ]
  },
  {
   "cell_type": "code",
   "execution_count": 24,
   "metadata": {},
   "outputs": [],
   "source": [
    "#Constants\n",
    "SAMPLE_SIZE = 100   # size of how many playlists we want to look at\n",
    "RANDOM_STATE = 15   # seed for random sampling"
   ]
  },
  {
   "cell_type": "markdown",
   "metadata": {},
   "source": [
    "Generate the dataframe for the artist and playlist data from the sampled csv files in data_CSV"
   ]
  },
  {
   "cell_type": "code",
   "execution_count": 25,
   "metadata": {},
   "outputs": [],
   "source": [
    "df1 = pd.read_csv(\"data_CSV/sample1.csv\")\n",
    "df2 = pd.read_csv(\"data_CSV/sample2.csv\")\n",
    "df3 = pd.read_csv(\"data_CSV/sample3.csv\")\n",
    "df4 = pd.read_csv(\"data_CSV/sample4.csv\")"
   ]
  },
  {
   "cell_type": "markdown",
   "metadata": {},
   "source": [
    "Final dataframe has 269580 total song entries, with 22626 different artists across 4000 playlists.  ```pid``` being the playlist the artist belongs to"
   ]
  },
  {
   "cell_type": "code",
   "execution_count": 26,
   "metadata": {},
   "outputs": [
    {
     "name": "stdout",
     "output_type": "stream",
     "text": [
      "<class 'pandas.core.frame.DataFrame'>\n",
      "Index: 269580 entries, 0 to 67023\n",
      "Data columns (total 2 columns):\n",
      " #   Column       Non-Null Count   Dtype \n",
      "---  ------       --------------   ----- \n",
      " 0   artist_name  269580 non-null  object\n",
      " 1   pid          269580 non-null  int64 \n",
      "dtypes: int64(1), object(1)\n",
      "memory usage: 6.2+ MB\n",
      "None\n",
      "artist_name    22626\n",
      "pid             4000\n",
      "dtype: int64\n"
     ]
    },
    {
     "data": {
      "text/html": [
       "<div>\n",
       "<style scoped>\n",
       "    .dataframe tbody tr th:only-of-type {\n",
       "        vertical-align: middle;\n",
       "    }\n",
       "\n",
       "    .dataframe tbody tr th {\n",
       "        vertical-align: top;\n",
       "    }\n",
       "\n",
       "    .dataframe thead th {\n",
       "        text-align: right;\n",
       "    }\n",
       "</style>\n",
       "<table border=\"1\" class=\"dataframe\">\n",
       "  <thead>\n",
       "    <tr style=\"text-align: right;\">\n",
       "      <th></th>\n",
       "      <th>artist_name</th>\n",
       "      <th>pid</th>\n",
       "    </tr>\n",
       "  </thead>\n",
       "  <tbody>\n",
       "    <tr>\n",
       "      <th>0</th>\n",
       "      <td>Shawn Mendes</td>\n",
       "      <td>161000</td>\n",
       "    </tr>\n",
       "    <tr>\n",
       "      <th>1</th>\n",
       "      <td>Cheat Codes</td>\n",
       "      <td>161000</td>\n",
       "    </tr>\n",
       "    <tr>\n",
       "      <th>2</th>\n",
       "      <td>DJ Khaled</td>\n",
       "      <td>161000</td>\n",
       "    </tr>\n",
       "    <tr>\n",
       "      <th>3</th>\n",
       "      <td>Natasha Bedingfield</td>\n",
       "      <td>161000</td>\n",
       "    </tr>\n",
       "    <tr>\n",
       "      <th>4</th>\n",
       "      <td>Tove Lo</td>\n",
       "      <td>161000</td>\n",
       "    </tr>\n",
       "  </tbody>\n",
       "</table>\n",
       "</div>"
      ],
      "text/plain": [
       "           artist_name     pid\n",
       "0         Shawn Mendes  161000\n",
       "1          Cheat Codes  161000\n",
       "2            DJ Khaled  161000\n",
       "3  Natasha Bedingfield  161000\n",
       "4              Tove Lo  161000"
      ]
     },
     "execution_count": 26,
     "metadata": {},
     "output_type": "execute_result"
    }
   ],
   "source": [
    "df = pd.concat([df1,df2,df3,df4])\n",
    "print(df.info())\n",
    "print(df.nunique())\n",
    "df.head()"
   ]
  },
  {
   "cell_type": "code",
   "execution_count": 27,
   "metadata": {},
   "outputs": [],
   "source": [
    "# replace $ with S to avoid different entries for the same artitst that uses the two characters interchangeably \n",
    "df['artist_name'] = df['artist_name'].apply(lambda x: x.replace('$', 'S'))"
   ]
  },
  {
   "cell_type": "markdown",
   "metadata": {},
   "source": [
    "Modify df to a series where each entry is a playlist. The index is the playlist id and the values are a list of the artists that show up in it (repeats are counted)"
   ]
  },
  {
   "cell_type": "code",
   "execution_count": 28,
   "metadata": {},
   "outputs": [
    {
     "name": "stdout",
     "output_type": "stream",
     "text": [
      "pid\n",
      "161000    [Shawn Mendes, Cheat Codes, DJ Khaled, Natasha...\n",
      "161001    [Counting Crows, Sister Hazel, Gin Blossoms, N...\n",
      "161002    [George Strait, George Strait, George Strait, ...\n",
      "161003    [Gipsy Kings, Gipsy Kings, Texas Tornados, Fla...\n",
      "161004    [N2DEEP, Warren G, Westside Connection, Digabl...\n",
      "Name: artist_name, dtype: object\n",
      "<class 'pandas.core.series.Series'>\n",
      "Index: 4000 entries, 161000 to 915999\n",
      "Series name: artist_name\n",
      "Non-Null Count  Dtype \n",
      "--------------  ----- \n",
      "4000 non-null   object\n",
      "dtypes: object(1)\n",
      "memory usage: 62.5+ KB\n",
      "None\n"
     ]
    }
   ],
   "source": [
    "# Series where each row is a index=PID and value=list of all artists (repeated)\n",
    "artist_df_minimal = df.groupby('pid')['artist_name'].apply(list)\n",
    "print(artist_df_minimal.head())\n",
    "print(artist_df_minimal.info())"
   ]
  },
  {
   "cell_type": "markdown",
   "metadata": {},
   "source": [
    "Reduce the data to a sample of ```SAMPLE_SIZE``` playlists, for more convenient calculations"
   ]
  },
  {
   "cell_type": "code",
   "execution_count": 29,
   "metadata": {},
   "outputs": [
    {
     "name": "stdout",
     "output_type": "stream",
     "text": [
      "pid\n",
      "414016    [Foreigner, Queen, N.W.A., N.W.A., N.W.A., Wu-...\n",
      "785253    [Kendrick Lamar, Kendrick Lamar, Childish Gamb...\n",
      "161243    [Conor Maynard, A Boogie Wit da Hoodie, Lukas ...\n",
      "785397    [Smokey Robinson & The Miracles, Smokey Robins...\n",
      "915666    [Bahamas, Amy Winehouse, Palmistry, Ed Sheeran...\n",
      "Name: artist_name, dtype: object\n",
      "<class 'pandas.core.series.Series'>\n",
      "Index: 100 entries, 414016 to 785123\n",
      "Series name: artist_name\n",
      "Non-Null Count  Dtype \n",
      "--------------  ----- \n",
      "100 non-null    object\n",
      "dtypes: object(1)\n",
      "memory usage: 1.6+ KB\n",
      "None\n"
     ]
    }
   ],
   "source": [
    "artist_df_minimal = artist_df_minimal.sample(SAMPLE_SIZE, random_state=RANDOM_STATE)\n",
    "print(artist_df_minimal.head())\n",
    "print(artist_df_minimal.info())"
   ]
  },
  {
   "cell_type": "markdown",
   "metadata": {},
   "source": [
    "Covert list values to a dictionary where the key is the artist name and value is the number of occurances."
   ]
  },
  {
   "cell_type": "code",
   "execution_count": 30,
   "metadata": {},
   "outputs": [
    {
     "name": "stdout",
     "output_type": "stream",
     "text": [
      "pid\n",
      "414016    {'AC/DC': 9, 'Billy Joel': 5, 'Guns N' Roses':...\n",
      "785253    {'Future': 11, 'Kanye West': 9, 'Kendrick Lama...\n",
      "161243    {'Melanie Martinez': 3, 'Enrique Iglesias': 3,...\n",
      "785397    {'Michael Jackson': 7, 'Eagles': 7, 'Elvis Pre...\n",
      "915666    {'Bahamas': 1, 'Amy Winehouse': 1, 'Palmistry'...\n",
      "Name: artist_name, dtype: object\n",
      "<class 'pandas.core.series.Series'>\n",
      "Index: 100 entries, 414016 to 785123\n",
      "Series name: artist_name\n",
      "Non-Null Count  Dtype \n",
      "--------------  ----- \n",
      "100 non-null    object\n",
      "dtypes: object(1)\n",
      "memory usage: 5.6+ KB\n",
      "None\n"
     ]
    }
   ],
   "source": [
    "for PID, artists in artist_df_minimal.items():\n",
    "    # count each artist in the list as a Series and then reatribute to the corresponding PID\n",
    "    artist_df_minimal[PID] = pd.Series(artists).value_counts().to_dict()\n",
    "print(artist_df_minimal.head())\n",
    "print(artist_df_minimal.info())"
   ]
  },
  {
   "cell_type": "code",
   "execution_count": 31,
   "metadata": {},
   "outputs": [],
   "source": [
    "from collections import deque"
   ]
  },
  {
   "cell_type": "markdown",
   "metadata": {},
   "source": [
    "Convert Series to a NetworkX Graph."
   ]
  },
  {
   "cell_type": "code",
   "execution_count": 32,
   "metadata": {},
   "outputs": [],
   "source": [
    "ARTISTS_GRAPH = nx.Graph()\n",
    "\n",
    "# Iterate over all playlist IDs and create a node for each artist found in the playlist and add an edge between them\n",
    "for PID, artist_dict in artist_df_minimal.items():\n",
    "    # Create a node for each artist in the playlist PID\n",
    "    artist_array = [(artist, frequency) for artist, frequency in artist_dict.items()]\n",
    "    for node_name, node_frequecy in artist_array:\n",
    "        if not ARTISTS_GRAPH.has_node(node_name):\n",
    "            ARTISTS_GRAPH.add_node(node_name)\n",
    "            \n",
    "    # Add edges between each artist in the playlist PID\n",
    "    # Doesn't double count cooccurances since each artist is popped off in each iteration. \n",
    "    artist_deque = deque(artist_array)\n",
    "    while artist_deque:\n",
    "        leftier_artist = artist_deque.popleft()\n",
    "        leftier_artist_name, leftier_artist_frequency = leftier_artist\n",
    "        for artist in artist_deque:\n",
    "            artist_name, artist_frequency = artist\n",
    "            if ARTISTS_GRAPH.has_edge(leftier_artist_name, artist_name):\n",
    "                ARTISTS_GRAPH[leftier_artist_name][artist_name]['weight'] += leftier_artist_frequency * artist_frequency\n",
    "            else:\n",
    "                ARTISTS_GRAPH.add_edge(leftier_artist_name, artist_name, weight=leftier_artist_frequency * artist_frequency)"
   ]
  },
  {
   "cell_type": "code",
   "execution_count": 33,
   "metadata": {},
   "outputs": [
    {
     "data": {
      "text/plain": [
       "False"
      ]
     },
     "execution_count": 33,
     "metadata": {},
     "output_type": "execute_result"
    }
   ],
   "source": [
    "nx.is_connected(ARTISTS_GRAPH)"
   ]
  },
  {
   "cell_type": "code",
   "execution_count": 34,
   "metadata": {},
   "outputs": [
    {
     "name": "stdout",
     "output_type": "stream",
     "text": [
      "Graph with 1888 nodes and 82546 edges\n"
     ]
    }
   ],
   "source": [
    "print(ARTISTS_GRAPH)"
   ]
  },
  {
   "cell_type": "code",
   "execution_count": 35,
   "metadata": {},
   "outputs": [],
   "source": [
    "nx.write_graphml(ARTISTS_GRAPH, 'graphs/artists_graph_unconnected.graphml')"
   ]
  },
  {
   "cell_type": "code",
   "execution_count": 36,
   "metadata": {},
   "outputs": [
    {
     "name": "stdout",
     "output_type": "stream",
     "text": [
      "Graph with 1860 nodes and 82404 edges\n"
     ]
    }
   ],
   "source": [
    "# Get a connected graph\n",
    "\n",
    "artists_subgraph = nx.subgraph(ARTISTS_GRAPH, sorted(nx.connected_components(ARTISTS_GRAPH), key=len, reverse=True)[0])\n",
    "print(artists_subgraph)\n"
   ]
  },
  {
   "cell_type": "code",
   "execution_count": 37,
   "metadata": {},
   "outputs": [],
   "source": [
    "nx.write_graphml(artists_subgraph, 'graphs/artists_graph_connected.graphml')"
   ]
  }
 ],
 "metadata": {
  "kernelspec": {
   "display_name": "base",
   "language": "python",
   "name": "python3"
  },
  "language_info": {
   "codemirror_mode": {
    "name": "ipython",
    "version": 3
   },
   "file_extension": ".py",
   "mimetype": "text/x-python",
   "name": "python",
   "nbconvert_exporter": "python",
   "pygments_lexer": "ipython3",
   "version": "3.11.7"
  }
 },
 "nbformat": 4,
 "nbformat_minor": 2
}
